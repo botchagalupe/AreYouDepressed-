{
  "nbformat": 4,
  "nbformat_minor": 0,
  "metadata": {
    "colab": {
      "provenance": [],
      "authorship_tag": "ABX9TyOTiKOWO3CfhTmadlZc0uzF",
      "include_colab_link": true
    },
    "kernelspec": {
      "name": "python3",
      "display_name": "Python 3"
    },
    "language_info": {
      "name": "python"
    }
  },
  "cells": [
    {
      "cell_type": "markdown",
      "metadata": {
        "id": "view-in-github",
        "colab_type": "text"
      },
      "source": [
        "<a href=\"https://colab.research.google.com/github/botchagalupe/AreYouDepressed-/blob/master/Example1.ipynb\" target=\"_parent\"><img src=\"https://colab.research.google.com/assets/colab-badge.svg\" alt=\"Open In Colab\"/></a>"
      ]
    },
    {
      "cell_type": "markdown",
      "source": [
        "# Simple LLM Example"
      ],
      "metadata": {
        "id": "2QRhbEbR3Iio"
      }
    },
    {
      "cell_type": "markdown",
      "source": [
        "## Basic Setup Code"
      ],
      "metadata": {
        "id": "j4kjO3Y23Gcp"
      }
    },
    {
      "cell_type": "code",
      "execution_count": null,
      "metadata": {
        "id": "SYgVoCsl2z3F"
      },
      "outputs": [],
      "source": [
        "from langchain.llms import OpenAI, Ollama\n",
        "import dotenv\n",
        "from pretty_print_callback_handler import PrettyPrintCallbackHandler"
      ]
    },
    {
      "cell_type": "markdown",
      "source": [
        "## Load ENV files"
      ],
      "metadata": {
        "id": "C3efrHfp3N0W"
      }
    },
    {
      "cell_type": "code",
      "source": [
        "dotenv.load_dotenv()"
      ],
      "metadata": {
        "id": "AcSjTYGh2_xr"
      },
      "execution_count": null,
      "outputs": []
    },
    {
      "cell_type": "markdown",
      "source": [
        "## Get Prompt Template using Langchain"
      ],
      "metadata": {
        "id": "Pr3YKY4m3THs"
      }
    },
    {
      "cell_type": "code",
      "source": [
        "from langchain import PromptTemplate"
      ],
      "metadata": {
        "id": "sBBUNZ9N3DbZ"
      },
      "execution_count": null,
      "outputs": []
    },
    {
      "cell_type": "markdown",
      "source": [
        "## Promot Code"
      ],
      "metadata": {
        "id": "qFwptMxT3dDn"
      }
    },
    {
      "cell_type": "code",
      "source": [
        "# prompt_template = PromptTemplate.from_template(\n",
        "#    \"Tell me a {adjective} joke about {content}.\"\n",
        "# )\n",
        "# prompt = prompt_template.format(adjective=\"lame\", content=\"chickens\")\n",
        "prompt = \"What is DevOps ? Please be verbose and detailed in your answer.\"\n",
        "llm = OpenAI()\n",
        "pretty_callback = PrettyPrintCallbackHandler()\n",
        "llm.callbacks = [pretty_callback]\n",
        "# llm = Ollama(model=\"llama2-uncensored\")\n",
        "result = llm(prompt)"
      ],
      "metadata": {
        "id": "D2dYSGYn3gSH"
      },
      "execution_count": null,
      "outputs": []
    },
    {
      "cell_type": "markdown",
      "source": [
        "## Get Results"
      ],
      "metadata": {
        "id": "IM_I9XJK3h_Q"
      }
    },
    {
      "cell_type": "code",
      "source": [
        "print(result)"
      ],
      "metadata": {
        "id": "nJmNmTLv3odv"
      },
      "execution_count": null,
      "outputs": []
    }
  ]
}